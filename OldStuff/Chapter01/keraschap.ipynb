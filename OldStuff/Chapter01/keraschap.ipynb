{
 "cells": [
  {
   "cell_type": "markdown",
   "metadata": {},
   "source": [
    "My first Keras/TensorFlow Neural Network! What I've learned from turning the python files into jupyter lab notebooks is that it is a very neat way to organize everything and make the information blocked and digestible, but it doesn't actually change the code. You can make any jupyter notebook just a plain old python file and it'll still work fine. Anyway, now that i've got this whole environment set up with all the proper libraries loaded in which is clearly working, I can just keep adding chapters and new projects to this rather than create new environments for every new project. This should make everything very easy! My next task is to continue the neuralnet/deeplearning book because it clearly is proving to be very useful, but honestly right now i might not need to go that deep into the backprop algorithm since there are these wonderful libraries that can take care of all of that. I would like to understand what's going on, but it doesn't have to be a completely exhaustive understanding. I will continue to work through that book, while simultaneously starting to dive into the keras/tensorflow docs, as well as the pandas and matplotlib docs to get a grasp of everything on a more practical level so I can really start to pump out interesting projects."
   ]
  },
  {
   "cell_type": "code",
   "execution_count": 1,
   "metadata": {},
   "outputs": [],
   "source": [
    "#imports\n",
    "import keras as keras\n",
    "from keras.models import Sequential\n",
    "from keras.layers import Dense\n",
    "from keras import optimizers\n",
    "import numpy as np\n",
    "np.random.seed(9)"
   ]
  },
  {
   "cell_type": "code",
   "execution_count": 3,
   "metadata": {},
   "outputs": [
    {
     "name": "stderr",
     "output_type": "stream",
     "text": [
      "/Users/gabrieleidelman/CompSci Projects/6-Neural-Nets-To-Explore/.conda/lib/python3.11/site-packages/keras/src/layers/core/dense.py:88: UserWarning: Do not pass an `input_shape`/`input_dim` argument to a layer. When using Sequential models, prefer using an `Input(shape)` object as the first layer in the model instead.\n",
      "  super().__init__(activity_regularizer=activity_regularizer, **kwargs)\n"
     ]
    }
   ],
   "source": [
    "#creating, compiling model\n",
    "\n",
    "model = Sequential()\n",
    "\n",
    "\n",
    "# Layer 1\n",
    "model.add(Dense(units=4, activation='sigmoid', input_dim=3))\n",
    "# Output Layer\n",
    "model.add(Dense(units=1, activation='sigmoid'))\n",
    "\n",
    "sgd = optimizers.SGD(learning_rate=1.0)\n",
    "model.compile(loss='mean_squared_error', optimizer=sgd)"
   ]
  },
  {
   "cell_type": "code",
   "execution_count": 4,
   "metadata": {},
   "outputs": [
    {
     "data": {
      "text/plain": [
       "<keras.src.callbacks.history.History at 0x114623450>"
      ]
     },
     "execution_count": 4,
     "metadata": {},
     "output_type": "execute_result"
    }
   ],
   "source": [
    "#defining input and output data, running neuralnet/fitting weights/biases\n",
    "X = np.array([[0,0,1],\n",
    "              [0,1,1],\n",
    "              [1,0,1],\n",
    "              [1,1,1]])\n",
    "y = np.array([[1],[1],[1],[0]])\n",
    "\n",
    "#X is input, y is correct output\n",
    "model.fit(X, y, epochs=1500, verbose=False)"
   ]
  },
  {
   "cell_type": "markdown",
   "metadata": {},
   "source": [
    "Now let's see how close we are to y!"
   ]
  },
  {
   "cell_type": "code",
   "execution_count": 8,
   "metadata": {},
   "outputs": [
    {
     "name": "stdout",
     "output_type": "stream",
     "text": [
      "\u001b[1m1/1\u001b[0m \u001b[32m━━━━━━━━━━━━━━━━━━━━\u001b[0m\u001b[37m\u001b[0m \u001b[1m0s\u001b[0m 12ms/step\n",
      "[[0.9997371 ]\n",
      " [0.975125  ]\n",
      " [0.97249675]\n",
      " [0.04281631]]\n"
     ]
    }
   ],
   "source": [
    "\n",
    "print(model.predict(X))"
   ]
  }
 ],
 "metadata": {
  "kernelspec": {
   "display_name": "Python 3",
   "language": "python",
   "name": "python3"
  },
  "language_info": {
   "codemirror_mode": {
    "name": "ipython",
    "version": 3
   },
   "file_extension": ".py",
   "mimetype": "text/x-python",
   "name": "python",
   "nbconvert_exporter": "python",
   "pygments_lexer": "ipython3",
   "version": "3.11.8"
  }
 },
 "nbformat": 4,
 "nbformat_minor": 2
}
