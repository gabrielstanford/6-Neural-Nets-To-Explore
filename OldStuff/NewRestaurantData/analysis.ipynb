{
 "cells": [
  {
   "cell_type": "code",
   "execution_count": 1,
   "metadata": {},
   "outputs": [
    {
     "name": "stdout",
     "output_type": "stream",
     "text": [
      "                         Date Day of Week   Time  Price   Tip\n",
      "Item                                                         \n",
      "Chocolate Souffle  2024-09-17     Tuesday  19:01     20  2.39\n",
      "Chocolate Souffle  2024-10-26    Saturday  18:33     20  2.17\n",
      "Chocolate Souffle  2024-10-16   Wednesday  19:20     20  3.29\n",
      "Chocolate Souffle  2024-03-12     Tuesday  20:02     20  5.95\n",
      "Chocolate Souffle  2024-09-04   Wednesday  17:46     20  3.89\n",
      "...                       ...         ...    ...    ...   ...\n",
      "Truffle Risotto    2024-12-27      Friday  18:03     35  5.54\n",
      "Truffle Risotto    2024-08-14   Wednesday  19:43     35  6.98\n",
      "Truffle Risotto    2024-05-20      Monday  20:50     35  6.00\n",
      "Truffle Risotto    2024-03-16    Saturday  18:39     35  9.33\n",
      "Truffle Risotto    2024-04-24   Wednesday  19:40     35  9.85\n",
      "\n",
      "[10000 rows x 5 columns]\n"
     ]
    }
   ],
   "source": [
    "import pandas as pd\n",
    "from sklearn.preprocessing import LabelEncoder\n",
    "import numpy as np\n",
    "%matplotlib inline\n",
    "import matplotlib.pyplot as plt\n",
    "\n",
    "df = pd.read_csv('restaurant_sales_data.csv')\n",
    "\n",
    "item_list = df['Item'].value_counts()\n",
    "items = df['Item'].unique()\n",
    "df.set_index('Item', inplace=True)\n",
    "df.sort_index(ascending=True, inplace=True)\n",
    "\n",
    "print(df)\n"
   ]
  },
  {
   "cell_type": "code",
   "execution_count": null,
   "metadata": {},
   "outputs": [],
   "source": [
    "y=0\n",
    "n = len(item_list)\n",
    "#n=8\n",
    "total_sales_arr = np.zeros(n)\n",
    "pretip_sales_arr = np.zeros(n)\n",
    "for x in range(n):\n",
    "    num_items = item_list.sort_index().iloc[x]\n",
    "    sales_pretip = sum(df[y:y+num_items]['Price'])\n",
    "    item_sales = sum(df[y:y+num_items]['Price']) + sum(df[y:y+num_items]['Tip'])\n",
    "    y+=num_items\n",
    "    pretip_sales_arr[x] = sales_pretip\n",
    "    total_sales_arr[x] = item_sales\n",
    "#num_first_i = item_list.sort_index().iloc[0]\n",
    "#num_sec_i = item_list.sort_index().iloc[1]"
   ]
  },
  {
   "cell_type": "code",
   "execution_count": null,
   "metadata": {},
   "outputs": [],
   "source": [
    "#Preprocessing with SciKit-Learn\n",
    "\n",
    "before_tip = sum(df['Price'])\n",
    "total_sales = before_tip + sum(df['Tip'])\n",
    "\n",
    "percentages = np.zeros(n)\n",
    "for item_index in range(n):\n",
    "    percentages[item_index] = total_sales_arr[item_index]/total_sales\n",
    "\n",
    "highest_sales = np.argmax(percentages)\n",
    "lowest_sales = np.argmin(percentages)\n",
    "sorted = np.argsort(percentages)\n",
    "print('The item with the highest sales was: ', items[highest_sales], '. The item with the lowest sales was: ', items[lowest_sales])\n",
    "\n",
    "#sort data by names\n",
    "sorted_by_name = np.empty(n, dtype=\"<U15\")\n",
    "for thing in range(n):\n",
    "    sorted_by_name[thing] = items[sorted[thing]]\n",
    "\n",
    "sorted_percents = np.sort(percentages)"
   ]
  },
  {
   "cell_type": "code",
   "execution_count": null,
   "metadata": {},
   "outputs": [],
   "source": [
    "#visualizing the data\n",
    "# creating the dataset\n",
    "\n",
    "fig = plt.figure(figsize = (19, 5))\n",
    "    \n",
    "# creating the bar plot\n",
    "plt.bar(sorted_by_name, sorted_percents*100, color ='maroon', \n",
    "        width = 0.4)\n",
    " \n",
    "plt.xlabel(\"Dish\")\n",
    "plt.ylabel(\"Percentage of Total Sales (including tip)\")\n",
    "plt.title(\"Dish ranked by sales\")\n",
    "plt.show()"
   ]
  }
 ],
 "metadata": {
  "kernelspec": {
   "display_name": "Python 3",
   "language": "python",
   "name": "python3"
  },
  "language_info": {
   "codemirror_mode": {
    "name": "ipython",
    "version": 3
   },
   "file_extension": ".py",
   "mimetype": "text/x-python",
   "name": "python",
   "nbconvert_exporter": "python",
   "pygments_lexer": "ipython3",
   "version": "3.11.8"
  }
 },
 "nbformat": 4,
 "nbformat_minor": 2
}
